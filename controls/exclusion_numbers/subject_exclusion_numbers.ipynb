{
 "cells": [
  {
   "cell_type": "markdown",
   "metadata": {},
   "source": [
    "# Counting subjects for TRACK-ON"
   ]
  },
  {
   "cell_type": "code",
   "execution_count": 1,
   "metadata": {},
   "outputs": [],
   "source": [
    "from pathlib2 import Path\n",
    "import numpy as np\n",
    "import pandas as pd\n",
    "from collections import OrderedDict\n",
    "from scipy.stats import mannwhitneyu, ks_2samp\n",
    "from matplotlib import pyplot as plt\n"
   ]
  },
  {
   "cell_type": "markdown",
   "metadata": {},
   "source": [
    "Number of subject on the orginal csv file:"
   ]
  },
  {
   "cell_type": "code",
   "execution_count": 2,
   "metadata": {},
   "outputs": [
    {
     "name": "stdout",
     "output_type": "stream",
     "text": [
      "There are 245 subjects in the original csv file\n"
     ]
    }
   ],
   "source": [
    "save_outiler_csv = False\n",
    "\n",
    "source_dir = Path('/data1/chdi_disks/Disk2/IBM SOW3-part2/'\n",
    "                     'Updated TRACK phenotypic dataset')\n",
    "general_ton_csv = source_dir / 'general_ton.csv'\n",
    "df = pd.read_csv(general_ton_csv.as_posix(), sep='\\t')\n",
    "\n",
    "n_subjs = df['subjid'].unique().shape[0]\n",
    "\n",
    "print('There are {} subjects in the original csv file'.format(n_subjs))"
   ]
  },
  {
   "cell_type": "markdown",
   "metadata": {},
   "source": [
    "Number of subject with some sort of imaging:"
   ]
  },
  {
   "cell_type": "code",
   "execution_count": 3,
   "metadata": {},
   "outputs": [
    {
     "name": "stdout",
     "output_type": "stream",
     "text": [
      "There are 241 subjects in the image directory file\n"
     ]
    }
   ],
   "source": [
    "img_dir = Path('/data1/cooked/TONf')\n",
    "img_subjs = len(list(img_dir.glob('R*')))\n",
    "print('There are {} subjects in the image directory file'.format(img_subjs))"
   ]
  },
  {
   "cell_type": "code",
   "execution_count": 4,
   "metadata": {},
   "outputs": [
    {
     "name": "stdout",
     "output_type": "stream",
     "text": [
      "There are 225 subjects with at least 2 raw Resting State visits\n"
     ]
    }
   ],
   "source": [
    "raw_subj_2_visit = []\n",
    "for sud in img_dir.glob('R*'):\n",
    "    n_fmri = len(list(sud.glob('visit_?/Resting_State')))\n",
    "    if n_fmri >=2:\n",
    "        raw_subj_2_visit.append(sud.parts[-1])\n",
    "raw_subj_2_visit.sort()\n",
    "\n",
    "print('There are {} subjects with at least 2 raw Resting State visits'.format(len(raw_subj_2_visit)))"
   ]
  },
  {
   "cell_type": "code",
   "execution_count": 5,
   "metadata": {},
   "outputs": [
    {
     "name": "stdout",
     "output_type": "stream",
     "text": [
      "There are 221 subjects with at least 2 preprocessed Resting State visits\n"
     ]
    }
   ],
   "source": [
    "preproc_subj_2_visit = []\n",
    "n_fmri_list = []\n",
    "for sud in img_dir.glob('R*'):\n",
    "    n_fmri = len(list(sud.glob('visit_?/Resting_State/*_corrcomped_2_MNI.nii.gz')))\n",
    "    if n_fmri >=2:\n",
    "        preproc_subj_2_visit.append(sud.parts[-1])\n",
    "        n_fmri_list.append(n_fmri)\n",
    "preproc_df = pd.DataFrame({'subjid': preproc_subj_2_visit,\n",
    "              'n_fmri': n_fmri_list})\n",
    "preproc_df.set_index('subjid', inplace=True)\n",
    "#preproc_subj_2_visit.sort()\n",
    "print('There are {} subjects with at least 2 preprocessed Resting State visits'.format(len(preproc_subj_2_visit)))"
   ]
  },
  {
   "cell_type": "code",
   "execution_count": 6,
   "metadata": {},
   "outputs": [],
   "source": [
    "# Create dataframe to be filled with motion and intensity outliers\n",
    "# (plus a column of 'any' that contains outlier frames in either of these measures)\n",
    "# per visit (3 visits):\n",
    "\n",
    "multidx = pd.MultiIndex.from_product([preproc_subj_2_visit, range(1,4)], names=['subjid', 'visit'])\n",
    "nanar = np.full((len(preproc_subj_2_visit) * 3, 3), fill_value=-1)#np.nan)\n",
    "out_df = pd.DataFrame(nanar, index=multidx, columns=['intensity','motion', 'any'])\n",
    "\n",
    "for subjid in preproc_subj_2_visit:\n",
    "    for vix in range(1,4):\n",
    "        parent = img_dir / subjid / 'visit_{}'.format(vix) / 'Resting_State'\n",
    "        try:\n",
    "            out_csv = parent.glob('*_outliers.csv').next()\n",
    "        except StopIteration:\n",
    "            out_csv = ''\n",
    "        if out_csv:\n",
    "            this_out = pd.read_csv(out_csv)\n",
    "            this_out['any'] = this_out['intensity'] | this_out['motion']\n",
    "            this_vals = this_out[['intensity', 'motion', 'any']].sum()\n",
    "            \n",
    "            out_df.at[subjid, vix] = this_vals.astype(int)\n",
    "\n",
    "if save_outiler_csv:\n",
    "    out_fn = Path().cwd() / 'motion_outlier_table.csv'\n",
    "    out_df.to_csv(out_fn)"
   ]
  },
  {
   "cell_type": "code",
   "execution_count": 7,
   "metadata": {},
   "outputs": [
    {
     "name": "stdout",
     "output_type": "stream",
     "text": [
      "Of the 221 subjects with at least 2 preprocessed Resting State visits,there are 217 with ok motion\n"
     ]
    }
   ],
   "source": [
    "n_frame_thres = 10\n",
    "\n",
    "# Compare with old computation from preprocessing/make_fmri_motion_exclusion_list:\n",
    "old_list_fn = ('/data2/polo/half_baked_data/TON_rsfMRI/'\n",
    "               'outlier_runs.csv')\n",
    "old_df = pd.read_csv(old_list_fn)\n",
    "\n",
    "assert old_df.loc[old_df['subjid'].isin(preproc_subj_2_visit)].shape[0] == (out_df['any'] > n_frame_thres).sum()\n",
    "\n",
    "z = (out_df['any'] > n_frame_thres).unstack().sum(axis=1)\n",
    "z.name = preproc_df.columns[0]\n",
    "subject_ok_visits = preproc_df - z.to_frame()\n",
    "print('Of the {} subjects with at least 2 preprocessed Resting State visits,'\n",
    "      'there are {} with ok motion'.format(len(preproc_subj_2_visit),\n",
    "                                           (subject_ok_visits >=2)['n_fmri'].sum()))\n"
   ]
  },
  {
   "cell_type": "code",
   "execution_count": 8,
   "metadata": {},
   "outputs": [
    {
     "name": "stdout",
     "output_type": "stream",
     "text": [
      "Out of 217, only 217 satisfied is_control_or_has_CAG\n",
      "Out of 217, only 217 satisfied is_control_or_has_CAP\n",
      "Out of 217, only 207 satisfied never_converted\n",
      "Out of 207, only 185 satisfied righthanded\n",
      "Out of 185, only 171 satisfied slopes_in_all_tasks\n"
     ]
    }
   ],
   "source": [
    "fine_motion_subjs = (subject_ok_visits >=2)['n_fmri']\n",
    "new_subj_array = fine_motion_subjs[fine_motion_subjs].index.values\n",
    "inclusion_df = pd.read_csv('inclusion_df.csv', index_col='subjid')\n",
    "\n",
    "requirement_list = ['is_control_or_has_CAG', 'is_control_or_has_CAP',\n",
    "                    'never_converted', 'righthanded', 'slopes_in_all_tasks']\n",
    "req_name = requirement_list[0]\n",
    "\n",
    "for req_name in requirement_list:\n",
    "    this_inclusion = inclusion_df.loc[new_subj_array]\n",
    "    this_inclusion[req_name].sum()\n",
    "    print('Out of {}, only {} satisfied {}'.format(new_subj_array.shape[0],\n",
    "                                                   this_inclusion[req_name].sum(),\n",
    "                                                   req_name))\n",
    "    new_subj_array = this_inclusion[req_name][this_inclusion[req_name]].index.values\n",
    "\n",
    "\n"
   ]
  },
  {
   "cell_type": "code",
   "execution_count": 9,
   "metadata": {},
   "outputs": [
    {
     "name": "stdout",
     "output_type": "stream",
     "text": [
      "Out of 171, only 153 satisfied having found fmri file by matlab\n"
     ]
    }
   ],
   "source": [
    "#\n",
    "#First some subjects are excluded due to poor correlation with median\n",
    "# \n",
    "# Subjects with files not found:\n",
    "# /data2/polo/code/MLtool/TON_resting_classification/subjects_not_found.csv\n",
    "#Poorly registered subject: R800031338\n",
    "#not found subjects:/data2/polo/code/MLtool/TON_resting_classification/subjects_not_found.csv\n",
    "\n",
    "subj_not_found = '/data2/polo/code/MLtool/TON_resting_classification/subjects_not_found.csv'\n",
    "subj_not_found_arr = pd.read_csv(subj_not_found,header=None).values.flatten()\n",
    "subj_not_found_arr = np.r_[subj_not_found_arr, np.array(['R800031338'])]\n",
    "found_subj = new_subj_array[~np.in1d(new_subj_array, subj_not_found_arr)]\n",
    "\n",
    "print('Out of {}, only {} satisfied {}'.format(new_subj_array.shape[0],\n",
    "                                               found_subj.shape[0],\n",
    "                                               'having found fmri file by matlab'))"
   ]
  },
  {
   "cell_type": "code",
   "execution_count": 13,
   "metadata": {},
   "outputs": [
    {
     "name": "stderr",
     "output_type": "stream",
     "text": [
      "/home/CHDI/opt/anaconda2/lib/python2.7/site-packages/matplotlib/figure.py:418: UserWarning: matplotlib is currently using a non-GUI backend, so cannot show the figure\n",
      "  \"matplotlib is currently using a non-GUI backend, \"\n"
     ]
    },
    {
     "data": {
      "image/png": "[encoded data removed]",
      "text/plain": [
       "<matplotlib.figure.Figure at 0x7f55279d5550>"
      ]
     },
     "metadata": {},
     "output_type": "display_data"
    }
   ],
   "source": [
    "dem_csv = '/data2/polo/half_baked_data/TON_baseline_demo.csv'\n",
    "dem_df = pd.read_csv(dem_csv, index_col='subjid').loc[found_subj].copy()\n",
    "dem_df['ones'] = 1\n",
    "\n",
    "import dataframe_to_table as dt\n",
    "\n",
    "dict_to_show = OrderedDict([\n",
    "                            ('N', dem_df.groupby('group').count()['ones']),\n",
    "                            ('Female', dem_df.groupby('group').sum()['sex']),\n",
    "                            ('age (mean)', dem_df.groupby(['group'])['age'].mean()),\n",
    "                            ('age (std)', dem_df.groupby(['group'])['age'].std()),\n",
    "                            ('CAG (mean)',  dem_df.groupby(['group'])['CAG'].mean()),\n",
    "                            ('CAG (std)',  dem_df.groupby(['group'])['CAG'].std()),\n",
    "                            ('CAP (mean)',  dem_df.groupby(['group'])['CAP'].mean()),\n",
    "                            ('CAP (std)',  dem_df.groupby(['group'])['CAP'].std())\n",
    "                            ])\n",
    "h = pd.DataFrame(dict_to_show).T\n",
    "h['p-value'] = np.nan\n",
    "\n",
    "for key in dict_to_show.keys():\n",
    "    if 'mean' in key:\n",
    "        col = key.split(' ')[0]\n",
    "        rows = OrderedDict()\n",
    "        for group in dem_df.group.unique():\n",
    "            rows[group] = dem_df.loc[dem_df['group'] == group][col].values\n",
    "        #p_val = mannwhitneyu(*rows.values(),alternative='two-sided')[1]\n",
    "        p_val = ks_2samp(*rows.values())[1]\n",
    "        h.loc[key, 'p-value'] = p_val\n",
    "ah = dt.render_mpl_table(h, header_columns=0, col_width=2.0,\n",
    "                         rowLabels=h.index.values)\n",
    "fh = ah.get_figure()\n",
    "fh.show()"
   ]
  },
  {
   "cell_type": "code",
   "execution_count": null,
   "metadata": {},
   "outputs": [],
   "source": []
  }
 ],
 "metadata": {
  "kernelspec": {
   "display_name": "Python 2",
   "language": "python",
   "name": "python2"
  },
  "language_info": {
   "codemirror_mode": {
    "name": "ipython",
    "version": 2
   },
   "file_extension": ".py",
   "mimetype": "text/x-python",
   "name": "python",
   "nbconvert_exporter": "python",
   "pygments_lexer": "ipython2",
   "version": "2.7.14"
  }
 },
 "nbformat": 4,
 "nbformat_minor": 2
}
