{
 "cells": [
  {
   "cell_type": "markdown",
   "metadata": {},
   "source": [
    "# Correlation of distance to logistic hyperplane and longitudinal cognitive change"
   ]
  },
  {
   "cell_type": "markdown",
   "metadata": {},
   "source": [
    "In this notebook we illustrate how a linear classifier trained to discriminate between extreme subgorups of decline can be potentially used to position ANY subject along a continuum, irrespectively of whether they belong to one of the extreme subgroups or not."
   ]
  },
  {
   "cell_type": "markdown",
   "metadata": {},
   "source": [
    "### Importing libraries"
   ]
  },
  {
   "cell_type": "code",
   "execution_count": 1,
   "metadata": {},
   "outputs": [
    {
     "name": "stderr",
     "output_type": "stream",
     "text": [
      "polyML/polyssifier_3.py:32: UserWarning: \n",
      "This call to matplotlib.use() has no effect because the backend has already\n",
      "been chosen; matplotlib.use() must be called *before* pylab, matplotlib.pyplot,\n",
      "or matplotlib.backends is imported for the first time.\n",
      "\n",
      "The backend was *originally* set to 'module://ipykernel.pylab.backend_inline' by the following code:\n",
      "  File \"/home/CHDI/opt/anaconda2/lib/python2.7/runpy.py\", line 174, in _run_module_as_main\n",
      "    \"__main__\", fname, loader, pkg_name)\n",
      "  File \"/home/CHDI/opt/anaconda2/lib/python2.7/runpy.py\", line 72, in _run_code\n",
      "    exec code in run_globals\n",
      "  File \"/home/CHDI/opt/anaconda2/lib/python2.7/site-packages/ipykernel_launcher.py\", line 16, in <module>\n",
      "    app.launch_new_instance()\n",
      "  File \"/home/CHDI/opt/anaconda2/lib/python2.7/site-packages/traitlets/config/application.py\", line 658, in launch_instance\n",
      "    app.start()\n",
      "  File \"/home/CHDI/opt/anaconda2/lib/python2.7/site-packages/ipykernel/kernelapp.py\", line 478, in start\n",
      "    self.io_loop.start()\n",
      "  File \"/home/CHDI/opt/anaconda2/lib/python2.7/site-packages/zmq/eventloop/ioloop.py\", line 177, in start\n",
      "    super(ZMQIOLoop, self).start()\n",
      "  File \"/home/CHDI/opt/anaconda2/lib/python2.7/site-packages/tornado/ioloop.py\", line 888, in start\n",
      "    handler_func(fd_obj, events)\n",
      "  File \"/home/CHDI/opt/anaconda2/lib/python2.7/site-packages/tornado/stack_context.py\", line 277, in null_wrapper\n",
      "    return fn(*args, **kwargs)\n",
      "  File \"/home/CHDI/opt/anaconda2/lib/python2.7/site-packages/zmq/eventloop/zmqstream.py\", line 440, in _handle_events\n",
      "    self._handle_recv()\n",
      "  File \"/home/CHDI/opt/anaconda2/lib/python2.7/site-packages/zmq/eventloop/zmqstream.py\", line 472, in _handle_recv\n",
      "    self._run_callback(callback, msg)\n",
      "  File \"/home/CHDI/opt/anaconda2/lib/python2.7/site-packages/zmq/eventloop/zmqstream.py\", line 414, in _run_callback\n",
      "    callback(*args, **kwargs)\n",
      "  File \"/home/CHDI/opt/anaconda2/lib/python2.7/site-packages/tornado/stack_context.py\", line 277, in null_wrapper\n",
      "    return fn(*args, **kwargs)\n",
      "  File \"/home/CHDI/opt/anaconda2/lib/python2.7/site-packages/ipykernel/kernelbase.py\", line 281, in dispatcher\n",
      "    return self.dispatch_shell(stream, msg)\n",
      "  File \"/home/CHDI/opt/anaconda2/lib/python2.7/site-packages/ipykernel/kernelbase.py\", line 232, in dispatch_shell\n",
      "    handler(stream, idents, msg)\n",
      "  File \"/home/CHDI/opt/anaconda2/lib/python2.7/site-packages/ipykernel/kernelbase.py\", line 397, in execute_request\n",
      "    user_expressions, allow_stdin)\n",
      "  File \"/home/CHDI/opt/anaconda2/lib/python2.7/site-packages/ipykernel/ipkernel.py\", line 208, in do_execute\n",
      "    res = shell.run_cell(code, store_history=store_history, silent=silent)\n",
      "  File \"/home/CHDI/opt/anaconda2/lib/python2.7/site-packages/ipykernel/zmqshell.py\", line 533, in run_cell\n",
      "    return super(ZMQInteractiveShell, self).run_cell(*args, **kwargs)\n",
      "  File \"/home/CHDI/opt/anaconda2/lib/python2.7/site-packages/IPython/core/interactiveshell.py\", line 2718, in run_cell\n",
      "    interactivity=interactivity, compiler=compiler, result=result)\n",
      "  File \"/home/CHDI/opt/anaconda2/lib/python2.7/site-packages/IPython/core/interactiveshell.py\", line 2822, in run_ast_nodes\n",
      "    if self.run_code(code, result):\n",
      "  File \"/home/CHDI/opt/anaconda2/lib/python2.7/site-packages/IPython/core/interactiveshell.py\", line 2882, in run_code\n",
      "    exec(code_obj, self.user_global_ns, self.user_ns)\n",
      "  File \"<ipython-input-1-08f4002f1bc7>\", line 6, in <module>\n",
      "    import seaborn as sns\n",
      "  File \"/home/CHDI/opt/anaconda2/lib/python2.7/site-packages/seaborn/__init__.py\", line 6, in <module>\n",
      "    from .rcmod import *\n",
      "  File \"/home/CHDI/opt/anaconda2/lib/python2.7/site-packages/seaborn/rcmod.py\", line 8, in <module>\n",
      "    from . import palettes, _orig_rc_params\n",
      "  File \"/home/CHDI/opt/anaconda2/lib/python2.7/site-packages/seaborn/palettes.py\", line 12, in <module>\n",
      "    from .utils import desaturate, set_hls_values, get_color_cycle\n",
      "  File \"/home/CHDI/opt/anaconda2/lib/python2.7/site-packages/seaborn/utils.py\", line 11, in <module>\n",
      "    import matplotlib.pyplot as plt\n",
      "  File \"/home/CHDI/opt/anaconda2/lib/python2.7/site-packages/matplotlib/pyplot.py\", line 72, in <module>\n",
      "    from matplotlib.backends import pylab_setup\n",
      "  File \"/home/CHDI/opt/anaconda2/lib/python2.7/site-packages/matplotlib/backends/__init__.py\", line 14, in <module>\n",
      "    line for line in traceback.format_stack()\n",
      "\n",
      "\n",
      "  mpl.use(\"Agg\")\n"
     ]
    }
   ],
   "source": [
    "from __future__ import division\n",
    "\n",
    "import pandas as pd\n",
    "import numpy as np\n",
    "import scipy\n",
    "import seaborn as sns\n",
    "from matplotlib import pyplot as plt\n",
    "from os.path import join as opj\n",
    "import pickle\n",
    "from scipy.io import loadmat\n",
    "\n",
    "from explore import helper_functions as hf\n",
    "from polyML import bootstrap_tools as bt\n",
    "from polyML import make_feature_stability_plot as fs\n",
    "from polyML import polyssifier_3 as ps\n",
    "from polyML import TON_tools3 as TON_tools\n",
    "import matplotlib as mpl\n",
    "mpl.rcParams['pdf.fonttype'] = 42\n",
    "\n",
    "%matplotlib inline"
   ]
  },
  {
   "cell_type": "markdown",
   "metadata": {},
   "source": [
    "## Data loading"
   ]
  },
  {
   "cell_type": "markdown",
   "metadata": {},
   "source": [
    "### Load weight map"
   ]
  },
  {
   "cell_type": "code",
   "execution_count": 2,
   "metadata": {},
   "outputs": [
    {
     "name": "stdout",
     "output_type": "stream",
     "text": [
      "Elapsed time during stability ranking: 0.00\n"
     ]
    }
   ],
   "source": [
    "\n",
    "\n",
    "in_dir = '/data1/chdi_results/polo/polyML/results/degree/bct/thres07/non_smooth/cross-site-CV/happy_sad/PC_0'\n",
    "\n",
    "do_save = False\n",
    "fig_dir = '/data2/polo/figures/'\n",
    "in_pkl = 'SAGA_log_elastic.pkl'\n",
    "in_fn = opj(in_dir, in_pkl)\n",
    "\n",
    "uni_select = 'ttest'\n",
    "n_folds = 4\n",
    "unifile = opj(in_dir, '_'.join([uni_select, 'ind',\n",
    "                                 str(n_folds), 'folds.mat']))\n",
    "\n",
    "mean_weight = fs.make_avg_weight_map(univar_ranking_fn=unifile,\n",
    "                                  classifier_fn=in_fn)"
   ]
  },
  {
   "cell_type": "markdown",
   "metadata": {},
   "source": [
    "### Load feature mat"
   ]
  },
  {
   "cell_type": "code",
   "execution_count": 3,
   "metadata": {},
   "outputs": [],
   "source": [
    "#mname = ''#/home/CHDI/polo/half_baked_data/DTI/DTI_nFA_data_filtered.mat'\n",
    "source = 'matlab' #python'\n",
    "runs_per_subj = 2\n",
    "\n",
    "mname = ('/data2/polo/code/MLtool/TON_resting_classification/proc_data/'\n",
    "         'non_smooth_non_subsamp/thres07/'\n",
    "         'TON_Resting_State_bct_degrees_log_norm_median.mat')\n",
    "\n",
    "data, labels, data_file = ps.load_data(mname)\n",
    "subject_list = ps.load_subject_list(mname, source=source)\n",
    "\n",
    "subj_per_run = np.empty((data.shape[0],), dtype='<U10')\n",
    "for k in range(runs_per_subj):\n",
    "    subj_per_run[k::runs_per_subj] = subject_list\n"
   ]
  },
  {
   "cell_type": "markdown",
   "metadata": {},
   "source": [
    "### Load cognitive data"
   ]
  },
  {
   "cell_type": "code",
   "execution_count": 4,
   "metadata": {},
   "outputs": [],
   "source": [
    "happy_sad_label = 'PC_0'#'sdmt' #\n",
    "behav_csv = '/data2/polo/half_baked_data/slopes/abs/deCAPed_pc_vals_abs.csv'\n",
    "\n",
    "happy_sad_labels = TON_tools.make_binary_levels_from_behav_file(\n",
    "            labels, subject_list, happy_sad_label, behav_csv, thres=.5,\n",
    "            runs_per_subj=None)\n",
    "# Mark intermediate subjects with a 0 happy-sad label\n",
    "happy_sad_labels[np.isnan(happy_sad_labels) & (labels==1)] = 0"
   ]
  },
  {
   "cell_type": "markdown",
   "metadata": {},
   "source": [
    "## Preprocessing of brain maps"
   ]
  },
  {
   "cell_type": "markdown",
   "metadata": {},
   "source": [
    "### Detrender\n",
    "\n",
    "Here a detrender is fit using all data (healthy and pre-HD) to remove age, CAG, CAP factors from data"
   ]
  },
  {
   "cell_type": "code",
   "execution_count": 5,
   "metadata": {
    "collapsed": true
   },
   "outputs": [],
   "source": [
    "in_csv = '/data2/polo/half_baked_data/slopes/abs/raw_slopes_ok_subjs_abs.csv'\n",
    "\n",
    "# Define the control variables:\n",
    "healthy_ctrl_vars = ['age', 'sex']\n",
    "preHD_ctrl_vars = ['CAG', 'CAP']\n",
    "\n",
    "detrended_data = TON_tools.detrend_data(data, labels,\n",
    "                                        subject_list, in_csv,\n",
    "                                        healthy_ctrl_vars,\n",
    "                                        preHD_ctrl_vars,\n",
    "                                        runs_per_subj=runs_per_subj)[0]\n"
   ]
  },
  {
   "cell_type": "markdown",
   "metadata": {},
   "source": [
    "Now, a scaler will be fit, using only samples with happy_sad labels in {-1, 1}, and applied to all samples."
   ]
  },
  {
   "cell_type": "code",
   "execution_count": 6,
   "metadata": {},
   "outputs": [],
   "source": [
    "scaler = ps.SupervisedStdScaler()\n",
    "\n",
    "scaler_labels = np.array([-1, 1])\n",
    "scl_idx = np.in1d(happy_sad_labels, scaler_labels)\n",
    "scaler.fit(detrended_data[scl_idx, :], happy_sad_labels[scl_idx], label=-1)\n",
    "\n",
    "scaled_data = scaler.transform(detrended_data)"
   ]
  },
  {
   "cell_type": "markdown",
   "metadata": {},
   "source": [
    "## Compute projection of logistic map and each preprocessed sample\n",
    "Note that there will be nans in rows corresponding to healthy controls"
   ]
  },
  {
   "cell_type": "code",
   "execution_count": 7,
   "metadata": {},
   "outputs": [],
   "source": [
    "weight_proj = scaled_data.dot(mean_weight)"
   ]
  },
  {
   "cell_type": "markdown",
   "metadata": {},
   "source": [
    "## Compute behavior"
   ]
  },
  {
   "cell_type": "code",
   "execution_count": 8,
   "metadata": {},
   "outputs": [
    {
     "name": "stderr",
     "output_type": "stream",
     "text": [
      "/home/CHDI/opt/anaconda2/lib/python2.7/site-packages/ipykernel_launcher.py:2: FutureWarning: \n",
      "Passing list-likes to .loc or [] with any missing label will raise\n",
      "KeyError in the future, you can use .reindex() as an alternative.\n",
      "\n",
      "See the documentation here:\n",
      "http://pandas.pydata.org/pandas-docs/stable/indexing.html#deprecate-loc-reindex-listlike\n",
      "  \n"
     ]
    },
    {
     "name": "stdout",
     "output_type": "stream",
     "text": [
      "Correlation: -0.835388914603\n",
      "p-val:8.90295676977e-40\n"
     ]
    },
    {
     "data": {
      "image/png": "[encoded data removed]",
      "text/plain": [
       "<matplotlib.figure.Figure at 0x7fee873def50>"
      ]
     },
     "metadata": {},
     "output_type": "display_data"
    }
   ],
   "source": [
    "behav_df = pd.read_csv(behav_csv, index_col='subjid', usecols=['subjid', happy_sad_label])\n",
    "behav_array = behav_df.loc[subj_per_run].values.flatten()\n",
    "[corr, p_val] = scipy.stats.spearmanr(weight_proj[labels==1],behav_array[labels==1])\n",
    "plt.plot()\n",
    "#if corr < 0:\n",
    "#    svm_proj *= -1\n",
    "print(\"Correlation: {}\\np-val:{}\".format(corr,p_val))"
   ]
  },
  {
   "cell_type": "markdown",
   "metadata": {},
   "source": [
    "## Plot ranks of behavior vs weight projections"
   ]
  },
  {
   "cell_type": "markdown",
   "metadata": {},
   "source": [
    "### Make logistic and cognitive ranking"
   ]
  },
  {
   "cell_type": "code",
   "execution_count": 9,
   "metadata": {
    "collapsed": true
   },
   "outputs": [],
   "source": [
    "y = 100-scipy.stats.rankdata(behav_array[labels==1])/len(behav_array[labels==1])* 100\n",
    "x = scipy.stats.rankdata(weight_proj[labels==1])/len(weight_proj[labels==1])* 100"
   ]
  },
  {
   "cell_type": "markdown",
   "metadata": {},
   "source": [
    "### Make scatter plot\n",
    "Define color palette:"
   ]
  },
  {
   "cell_type": "code",
   "execution_count": 10,
   "metadata": {},
   "outputs": [
    {
     "data": {
      "image/png": "[encoded data removed]",
      "text/plain": [
       "<matplotlib.figure.Figure at 0x7fee873921d0>"
      ]
     },
     "metadata": {},
     "output_type": "display_data"
    }
   ],
   "source": [
    "clist = np.array([sns.xkcd_rgb[\"red\"], sns.xkcd_rgb[\"yellow\"], sns.xkcd_rgb[\"green\"]])\n",
    "#clist = np.array([sns.xkcd_rgb[\"green\"], sns.xkcd_rgb[\"red\"], sns.xkcd_rgb[\"yellow\"]])\n",
    "pal = sns.color_palette(clist)\n",
    "\n",
    "sns.set_style(\"darkgrid\")\n",
    "sns.set_palette(pal)\n",
    "sns.palplot(sns.color_palette())"
   ]
  },
  {
   "cell_type": "markdown",
   "metadata": {},
   "source": [
    "Define dataframe for plotting function:"
   ]
  },
  {
   "cell_type": "code",
   "execution_count": 11,
   "metadata": {},
   "outputs": [],
   "source": [
    "plt_idx = ~np.isnan(happy_sad_labels)\n",
    "subgroup_names = {-1: 'fast decay', 0:'intermediate', 1: 'stable'}\n",
    "subgroup = np.array([subgroup_names[k] for k in happy_sad_labels[plt_idx]])\n",
    "plot_df = pd.DataFrame.from_dict({'weight_rank':x, 'behav_rank':y, 'subgroup': subgroup}) #happy_sad_labels[plt_idx]})#"
   ]
  },
  {
   "cell_type": "markdown",
   "metadata": {},
   "source": [
    "Make plot and save:"
   ]
  },
  {
   "cell_type": "code",
   "execution_count": 12,
   "metadata": {
    "scrolled": true
   },
   "outputs": [
    {
     "data": {
      "image/png": "[encoded data removed]",
      "text/plain": [
       "<matplotlib.figure.Figure at 0x7fee872282d0>"
      ]
     },
     "metadata": {},
     "output_type": "display_data"
    }
   ],
   "source": [
    "ahs = sns.lmplot('weight_rank', 'behav_rank', plot_df, fit_reg=False, hue='subgroup',\n",
    "                 hue_order=['fast decay', 'intermediate',  'stable'])\n",
    "ah = ahs.axes.flatten()[0]\n",
    "ah.set_xlim([0, 100])\n",
    "ah.set_ylim([0, 100])\n",
    "ah.set_xlabel('Ranked distance to weight plane (percentile)')\n",
    "ah.set_ylabel('Ranked behavioral slope (percentile)')\n",
    "ah.set_title(happy_sad_label.replace('_', ' '))\n",
    "ah.set_aspect('equal')\n",
    "fh = plt.gcf()\n",
    "if do_save:\n",
    "    fh.savefig(opj(fig_dir, 'weight_vs_behav_ranks.pdf'))"
   ]
  },
  {
   "cell_type": "markdown",
   "metadata": {},
   "source": [
    "## To what extent is the observed correlation explained by within-group variance"
   ]
  },
  {
   "cell_type": "code",
   "execution_count": 13,
   "metadata": {},
   "outputs": [
    {
     "name": "stdout",
     "output_type": "stream",
     "text": [
      "For the  intermediate subjects not considered in classifier training the observed correlation is 0.355215016955, with p-value 0.0407\n"
     ]
    }
   ],
   "source": [
    "rank_df = plot_df\n",
    "n_iter = 10000#00\n",
    "shuffle=True\n",
    "replacement=False\n",
    "subgroup_names = ['intermediate']\n",
    "\n",
    "chance_corr = TON_tools.provide_subgroup_preserving_ranking_correlation_dist(rank_df, subgroup_names,\n",
    "                                                                             runs_per_subj,n_iter, shuffle=shuffle,\n",
    "                                                                             replacement=replacement)\n",
    "z = scipy.stats.pearsonr(*plot_df.loc[plot_df['subgroup']\n",
    "                                      == 'intermediate'][['behav_rank','weight_rank']].values.T)[0]\n",
    "                                                                             \n",
    "p_val = sum(chance_corr >= z) / n_iter\n",
    "print((\"For the  intermediate subjects not considered in classifier \"\n",
    "      \"training the observed correlation is {}, with p-value {}\").format(z, p_val))"
   ]
  },
  {
   "cell_type": "code",
   "execution_count": null,
   "metadata": {},
   "outputs": [],
   "source": []
  }
 ],
 "metadata": {
  "kernelspec": {
   "display_name": "Python 2",
   "language": "python",
   "name": "python2"
  },
  "language_info": {
   "codemirror_mode": {
    "name": "ipython",
    "version": 2
   },
   "file_extension": ".py",
   "mimetype": "text/x-python",
   "name": "python",
   "nbconvert_exporter": "python",
   "pygments_lexer": "ipython2",
   "version": "2.7.14"
  }
 },
 "nbformat": 4,
 "nbformat_minor": 2
}
